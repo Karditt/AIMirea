{
 "cells": [
  {
   "cell_type": "markdown",
   "id": "ce6c24c2",
   "metadata": {},
   "source": [
    "# Рабочая тетрадь 1"
   ]
  },
  {
   "cell_type": "markdown",
   "id": "20803d8b",
   "metadata": {},
   "source": [
    "# 1.3"
   ]
  },
  {
   "cell_type": "code",
   "execution_count": 5,
   "id": "65fd93f4",
   "metadata": {},
   "outputs": [
    {
     "name": "stdout",
     "output_type": "stream",
     "text": [
      "True | <class 'bool'>\n",
      "{8, 1, 3, 7} | <class 'set'>\n",
      "{2, 4, 5, 'apple', 10} | <class 'set'>\n",
      "set() | <class 'set'>\n",
      "('Антонова Антонина', 34, 'ж') | <class 'tuple'>\n",
      "type | <class 'str'>\n",
      "[1, 'title', 2, 'content'] | <class 'list'>\n"
     ]
    }
   ],
   "source": [
    "x = 5 >= 2\n",
    "A = {1, 3, 7, 8}\n",
    "B = {2, 4, 5, 10, \"apple\"}\n",
    "C = A & B\n",
    "df = \"Антонова Антонина\", 34, \"ж\"\n",
    "z = \"type\"\n",
    "D = [1, \"title\", 2, \"content\"]\n",
    "\n",
    "print(x, \"|\", type(x))\n",
    "print(A, \"|\", type(A))\n",
    "print(B, \"|\", type(B))\n",
    "print(C, \"|\", type(C))\n",
    "print(df, \"|\", type(df))\n",
    "print(z, \"|\", type(z))\n",
    "print(D, \"|\", type(D))"
   ]
  },
  {
   "cell_type": "markdown",
   "id": "db1d7438",
   "metadata": {},
   "source": [
    "# 2.3"
   ]
  },
  {
   "cell_type": "code",
   "execution_count": 6,
   "id": "1f68ed16",
   "metadata": {},
   "outputs": [
    {
     "name": "stdout",
     "output_type": "stream",
     "text": [
      "(5; +inf)\n"
     ]
    }
   ],
   "source": [
    "x = int(input())\n",
    "if x < -5:\n",
    "    print(\"(-inf; -5)\")\n",
    "elif x >= -5 and x <= 5:\n",
    "    print(\"[-5; 5]\")\n",
    "elif x > 5:\n",
    "    print(\"(5; +inf)\")"
   ]
  },
  {
   "cell_type": "markdown",
   "id": "234734e9",
   "metadata": {},
   "source": [
    "# 3.3.1"
   ]
  },
  {
   "cell_type": "code",
   "execution_count": 7,
   "id": "a61223b8",
   "metadata": {},
   "outputs": [
    {
     "name": "stdout",
     "output_type": "stream",
     "text": [
      "10\n",
      "7\n",
      "4\n",
      "1\n"
     ]
    }
   ],
   "source": [
    "x = 10\n",
    "while x >= 1:\n",
    "    print(x)\n",
    "    x -= 3"
   ]
  },
  {
   "cell_type": "markdown",
   "id": "55796d6f",
   "metadata": {},
   "source": [
    "# 3.3.2"
   ]
  },
  {
   "cell_type": "code",
   "execution_count": 8,
   "id": "545b6cd4",
   "metadata": {},
   "outputs": [
    {
     "name": "stdout",
     "output_type": "stream",
     "text": [
      "age\n",
      "sex\n",
      "education\n",
      "occupation\n"
     ]
    }
   ],
   "source": [
    "human_props = ['age', 'sex', 'education', 'occupation']\n",
    "for i in human_props:\n",
    "    print(i)"
   ]
  },
  {
   "cell_type": "markdown",
   "id": "57403d69",
   "metadata": {},
   "source": [
    "# 3.3.3"
   ]
  },
  {
   "cell_type": "code",
   "execution_count": 4,
   "id": "e59a960e",
   "metadata": {},
   "outputs": [
    {
     "name": "stdout",
     "output_type": "stream",
     "text": [
      "[2, 3, 4, 5, 6, 7, 8, 9, 10, 11, 12, 13, 14, 15]\n"
     ]
    }
   ],
   "source": [
    "arr = []\n",
    "x = 2\n",
    "while x <= 15:\n",
    "    arr.append(x)\n",
    "    x += 1\n",
    "print(arr)"
   ]
  },
  {
   "cell_type": "markdown",
   "id": "407c05f5",
   "metadata": {},
   "source": [
    "# 3.3.4"
   ]
  },
  {
   "cell_type": "code",
   "execution_count": 5,
   "id": "5e72ec32",
   "metadata": {},
   "outputs": [
    {
     "name": "stdout",
     "output_type": "stream",
     "text": [
      "105\n",
      "80\n",
      "55\n",
      "30\n",
      "5\n"
     ]
    }
   ],
   "source": [
    "for i in range(105, 4, -25):\n",
    "    print(i)"
   ]
  },
  {
   "cell_type": "markdown",
   "id": "d327b1d4",
   "metadata": {},
   "source": [
    "# 3.3.5"
   ]
  },
  {
   "cell_type": "code",
   "execution_count": 6,
   "id": "c51bf159",
   "metadata": {},
   "outputs": [
    {
     "name": "stdout",
     "output_type": "stream",
     "text": [
      "[8, 1, 6, 3, 4, 5, 2, 7, 0, 9]\n"
     ]
    }
   ],
   "source": [
    "arr = [0, 1, 2, 3, 4, 5, 6, 7, 8, 9]\n",
    "arr[0::2] = reversed(arr[0::2])\n",
    "\n",
    "print(arr)"
   ]
  },
  {
   "cell_type": "markdown",
   "id": "768c56b2",
   "metadata": {},
   "source": [
    "# 4.3.1"
   ]
  },
  {
   "cell_type": "code",
   "execution_count": 7,
   "id": "8be50fbb",
   "metadata": {},
   "outputs": [
    {
     "data": {
      "image/png": "[encoded data removed]",
      "text/plain": [
       "<Figure size 640x480 with 1 Axes>"
      ]
     },
     "metadata": {},
     "output_type": "display_data"
    },
    {
     "name": "stdout",
     "output_type": "stream",
     "text": [
      "Array [0.14150546 0.47192955 0.79176751 0.30536049 0.28041134 0.9987484\n",
      " 0.94502555 0.4202379  0.25685395 0.33875594]\n",
      "Average value 0.4950596090879137\n",
      "Median value 0.3794969213676425\n"
     ]
    }
   ],
   "source": [
    "import numpy as np\n",
    "import matplotlib.pyplot as plt\n",
    "\n",
    "arr = np.random.rand(10)\n",
    "marr = [i for i in range(len(arr))]\n",
    "plt.scatter(marr, arr)\n",
    "plt.show()\n",
    "print('Array', arr)\n",
    "print('Average value', np.average(arr))\n",
    "print('Median value', np.median(arr))"
   ]
  },
  {
   "cell_type": "markdown",
   "id": "2a4d1652",
   "metadata": {},
   "source": [
    "# 4.3.2"
   ]
  },
  {
   "cell_type": "code",
   "execution_count": 8,
   "id": "3290c7b7",
   "metadata": {},
   "outputs": [
    {
     "name": "stderr",
     "output_type": "stream",
     "text": [
      "/tmp/ipykernel_14003/1511008646.py:16: UserWarning: Matplotlib is currently using module://matplotlib_inline.backend_inline, which is a non-GUI backend, so cannot show the figure.\n",
      "  fig.show()\n"
     ]
    },
    {
     "data": {
      "image/png": "[encoded data removed]",
      "text/plain": [
       "<Figure size 640x480 with 2 Axes>"
      ]
     },
     "metadata": {},
     "output_type": "display_data"
    }
   ],
   "source": [
    "import matplotlib.pyplot as plt\n",
    "import numpy as np\n",
    "\n",
    "\n",
    "def f(x):\n",
    "    return (\n",
    "        (1 + np.exp(np.sqrt(x)) + np.cos(x**2)) / np.absolute(1 - (np.sin(x) ** 3))\n",
    "    ) + np.log(2 * x)\n",
    "\n",
    "\n",
    "fig, axs = plt.subplots(2)\n",
    "x = np.arange(1, 10, 0.1)\n",
    "axs[0].plot(x, f(x))\n",
    "midx = len(x) // 2\n",
    "axs[1].scatter(x[:midx], f(x)[:midx])\n",
    "fig.show()"
   ]
  },
  {
   "cell_type": "markdown",
   "id": "871af0ac",
   "metadata": {},
   "source": [
    "# 4.3.3"
   ]
  },
  {
   "cell_type": "code",
   "execution_count": 9,
   "id": "2106e24c",
   "metadata": {},
   "outputs": [
    {
     "data": {
      "image/png": "[encoded data removed]",
      "text/plain": [
       "<Figure size 640x480 with 1 Axes>"
      ]
     },
     "metadata": {},
     "output_type": "display_data"
    },
    {
     "name": "stdout",
     "output_type": "stream",
     "text": [
      "5.281433013197256\n"
     ]
    }
   ],
   "source": [
    "import matplotlib.pyplot as plt\n",
    "import numpy as np\n",
    "\n",
    "\n",
    "def f(x):\n",
    "    return np.absolute(np.cos(x * np.exp(np.cos(x) + np.log(x + 1))))\n",
    "\n",
    "\n",
    "x = np.arange(1, 10, 1)\n",
    "y = f(x)\n",
    "plt.plot(x, y)\n",
    "plt.grid()\n",
    "plt.fill_between(x, y)\n",
    "plt.show()\n",
    "\n",
    "area = np.trapz(y)\n",
    "print(area)"
   ]
  },
  {
   "cell_type": "markdown",
   "id": "eaaf903c",
   "metadata": {},
   "source": [
    "# 4.3.4"
   ]
  },
  {
   "cell_type": "code",
   "execution_count": 10,
   "id": "d2da31c6",
   "metadata": {},
   "outputs": [
    {
     "data": {
      "image/png": "[encoded data removed]",
      "text/plain": [
       "<Figure size 640x480 with 1 Axes>"
      ]
     },
     "metadata": {},
     "output_type": "display_data"
    }
   ],
   "source": [
    "import matplotlib.pyplot as plt\n",
    "\n",
    "stock_prices = [\n",
    "    [\n",
    "        174.78,\n",
    "        165.12,\n",
    "        174.61,\n",
    "        157.65,\n",
    "        148.84,\n",
    "        136.72,\n",
    "        162.51,\n",
    "        157.22,\n",
    "        138.20,\n",
    "        153.34,\n",
    "        148.03,\n",
    "        129.93,\n",
    "    ],  # AAPL\n",
    "    [\n",
    "        135.70,\n",
    "        134.89,\n",
    "        139.65,\n",
    "        113.97,\n",
    "        114.04,\n",
    "        109.37,\n",
    "        116.64,\n",
    "        109.15,\n",
    "        96.15,\n",
    "        94.66,\n",
    "        101.45,\n",
    "        88.73,\n",
    "    ],  # GOOG\n",
    "    [\n",
    "        310.98,\n",
    "        298.79,\n",
    "        308.31,\n",
    "        277.52,\n",
    "        271.87,\n",
    "        256.83,\n",
    "        280.74,\n",
    "        261.47,\n",
    "        232.90,\n",
    "        232.13,\n",
    "        255.14,\n",
    "        239.82,\n",
    "    ],  # MSFT\n",
    "]\n",
    "\n",
    "x = range(1, 13)\n",
    "\n",
    "plt.plot(x, stock_prices[0], label=\"AAPL\")\n",
    "plt.plot(x, stock_prices[1], label=\"GOOG\")\n",
    "plt.plot(x, stock_prices[2], label=\"MSFT\")\n",
    "plt.legend()\n",
    "plt.grid()\n",
    "plt.xlabel(\"Month\")\n",
    "plt.ylabel(\"Price (USD$)\")\n",
    "plt.title(\"Stock prices for 2022\")\n",
    "plt.show()"
   ]
  },
  {
   "cell_type": "markdown",
   "id": "ea8d2eac",
   "metadata": {},
   "source": [
    "# 4.3.5"
   ]
  },
  {
   "cell_type": "code",
   "execution_count": 12,
   "id": "1e2ff724",
   "metadata": {},
   "outputs": [
    {
     "name": "stdout",
     "output_type": "stream",
     "text": [
      "Выберите операцию:\n",
      "1. Сложение\n",
      "2. Вычитание\n",
      "3. Умножение\n",
      "4. Деление\n",
      "5. Вычисление e^(x+y)\n",
      "6. Вычисление sin(x+y)\n",
      "7. Вычисление cos(x+y)\n",
      "8. Вычисление x^y\n",
      "9. Выйти из программы\n",
      "Введите номер операции (1/2/3/4/5/6/7/8/9): 3\n",
      "Введите первое число: 4\n",
      "Введите второе число: 7\n",
      "Результат: 28.0\n",
      "Выберите операцию:\n",
      "1. Сложение\n",
      "2. Вычитание\n",
      "3. Умножение\n",
      "4. Деление\n",
      "5. Вычисление e^(x+y)\n",
      "6. Вычисление sin(x+y)\n",
      "7. Вычисление cos(x+y)\n",
      "8. Вычисление x^y\n",
      "9. Выйти из программы\n",
      "Введите номер операции (1/2/3/4/5/6/7/8/9): 4\n",
      "Введите первое число: 5\n",
      "Введите второе число: 2\n",
      "Результат: 2.5\n",
      "Выберите операцию:\n",
      "1. Сложение\n",
      "2. Вычитание\n",
      "3. Умножение\n",
      "4. Деление\n",
      "5. Вычисление e^(x+y)\n",
      "6. Вычисление sin(x+y)\n",
      "7. Вычисление cos(x+y)\n",
      "8. Вычисление x^y\n",
      "9. Выйти из программы\n",
      "Введите номер операции (1/2/3/4/5/6/7/8/9): 9\n"
     ]
    }
   ],
   "source": [
    "import math\n",
    "\n",
    "\n",
    "def add(x, y):\n",
    "    return x + y\n",
    "\n",
    "\n",
    "def subtract(x, y):\n",
    "    return x - y\n",
    "\n",
    "\n",
    "def multiply(x, y):\n",
    "    return x * y\n",
    "\n",
    "\n",
    "def divide(x, y):\n",
    "    if y == 0:\n",
    "        return \"Ошибка: деление на ноль\"\n",
    "    return x / y\n",
    "\n",
    "\n",
    "def exponentiation(x, y):\n",
    "    return math.exp(x + y)\n",
    "\n",
    "\n",
    "def sine(x, y):\n",
    "    return math.sin(x + y)\n",
    "\n",
    "\n",
    "def cosine(x, y):\n",
    "    return math.cos(x + y)\n",
    "\n",
    "\n",
    "def power(x, y):\n",
    "    return x**y\n",
    "\n",
    "\n",
    "while True:\n",
    "    print(\"Выберите операцию:\")\n",
    "    print(\"1. Сложение\")\n",
    "    print(\"2. Вычитание\")\n",
    "    print(\"3. Умножение\")\n",
    "    print(\"4. Деление\")\n",
    "    print(\"5. Вычисление e^(x+y)\")\n",
    "    print(\"6. Вычисление sin(x+y)\")\n",
    "    print(\"7. Вычисление cos(x+y)\")\n",
    "    print(\"8. Вычисление x^y\")\n",
    "    print(\"9. Выйти из программы\")\n",
    "\n",
    "    choice = input(\"Введите номер операции (1/2/3/4/5/6/7/8/9): \")\n",
    "\n",
    "    if choice == \"9\":\n",
    "        break\n",
    "\n",
    "    if choice in (\"1\", \"2\", \"3\", \"4\", \"5\", \"6\", \"7\", \"8\"):\n",
    "        x = float(input(\"Введите первое число: \"))\n",
    "        y = float(input(\"Введите второе число: \"))\n",
    "\n",
    "        if choice == \"1\":\n",
    "            print(\"Результат:\", add(x, y))\n",
    "        elif choice == \"2\":\n",
    "            print(\"Результат:\", subtract(x, y))\n",
    "        elif choice == \"3\":\n",
    "            print(\"Результат:\", multiply(x, y))\n",
    "        elif choice == \"4\":\n",
    "            print(\"Результат:\", divide(x, y))\n",
    "        elif choice == \"5\":\n",
    "            print(\"Результат:\", exponentiation(x, y))\n",
    "        elif choice == \"6\":\n",
    "            print(\"Результат:\", sine(x, y))\n",
    "        elif choice == \"7\":\n",
    "            print(\"Результат:\", cosine(x, y))\n",
    "        elif choice == \"8\":\n",
    "            print(\"Результат:\", power(x, y))\n",
    "    else:\n",
    "        print(\"Некорректный ввод\")"
   ]
  }
 ],
 "metadata": {
  "kernelspec": {
   "display_name": "Python 3 (ipykernel)",
   "language": "python",
   "name": "python3"
  },
  "language_info": {
   "codemirror_mode": {
    "name": "ipython",
    "version": 3
   },
   "file_extension": ".py",
   "mimetype": "text/x-python",
   "name": "python",
   "nbconvert_exporter": "python",
   "pygments_lexer": "ipython3",
   "version": "3.11.4"
  }
 },
 "nbformat": 4,
 "nbformat_minor": 5
}
