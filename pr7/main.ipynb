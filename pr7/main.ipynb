{
  "cells": [
    {
      "cell_type": "markdown",
      "id": "06ffc264",
      "metadata": {
        "id": "06ffc264"
      },
      "source": [
        "### Задание\n",
        "Реализовать классы нейросетей по аналогии с классом OurNeuralNetwork. \n",
        "Данные нейросети:\n",
        "- три входа $(x_{1}, x_{2}, x_{3})$;\n",
        "- три нейрона в скрытых слоях $(h_{1}, h_{2}, h_{3})$;\n",
        "- выход $(o_{1})$.\n",
        "\n",
        "Нейроны имеют идентичные веса и пороги:\n",
        "- $w = [0.5, 0.5, 0.5]$;\n",
        "- $b = 0$."
      ]
    },
    {
      "cell_type": "code",
      "execution_count": 7,
      "id": "83805ae1",
      "metadata": {},
      "outputs": [],
      "source": [
        "def sigmoid(x):\n",
        "    # функция активации: f(x) = 1 / (1 + e^(-x))\n",
        "    return 1 / (1 + np.exp(-x))\n",
        "\n",
        "class Neuron:\n",
        "    def __init__(self, weights, bias):\n",
        "        self.weights = weights\n",
        "        self.bias = bias\n",
        "    def feedForward(self, inputs):\n",
        "        total = np.dot(self.weights, inputs) + self.bias # np.dot - умножение матриц\n",
        "        return round(sigmoid(total), 3)"
      ]
    },
    {
      "cell_type": "code",
      "execution_count": 9,
      "id": "0482b3b4",
      "metadata": {
        "id": "0482b3b4",
        "outputId": "d715ea44-1905-49c9-b72b-0afe9b5ffb04"
      },
      "outputs": [
        {
          "name": "stdout",
          "output_type": "stream",
          "text": [
            "0.815\n"
          ]
        }
      ],
      "source": [
        "import numpy as np\n",
        "\n",
        "\n",
        "\n",
        "class OurNeuralNetwork1:\n",
        "    '''\n",
        "    Данные нейросети: \n",
        "        - два входа;\n",
        "        - два нейрона в скрытых слоях (h1, h2);\n",
        "        - выход (о1)\n",
        "    Нейроны имеют идентичные веса и пороги:\n",
        "        - w = [0, 1];\n",
        "        - b = 0.\n",
        "    '''\n",
        "    def __init__(self):\n",
        "        weights = np.array([0.5, 0.5, 0.5])\n",
        "        bias = 0 # порог\n",
        "        # Класс Neuron из предыдущего раздела\n",
        "        self.h1 = Neuron(weights, bias)\n",
        "        self.h2 = Neuron(weights, bias) \n",
        "        self.h3 = Neuron(weights, bias)        \n",
        "        self.o1 = Neuron(weights, bias)  \n",
        "    def feedForward(self, x):\n",
        "        out_h1 = self.h1.feedForward(x)\n",
        "        out_h2 = self.h2.feedForward(x)   \n",
        "        out_h3 = self.h3.feedForward(x)   \n",
        "        # Входы для о1 - это выходы h1 и h2\n",
        "        out_o1 = self.o1.feedForward(np.array([out_h1, out_h2, out_h3]))\n",
        "        return round(out_o1, 3)\n",
        "    \n",
        "network = OurNeuralNetwork1()\n",
        "x = np.array([2, 3, 4])\n",
        "print(network.feedForward(x)) # 0.8151036049051821"
      ]
    },
    {
      "cell_type": "markdown",
      "id": "cfec49f8",
      "metadata": {
        "id": "cfec49f8"
      },
      "source": [
        "Данные нейросети:\n",
        "- два входа $(x_{1}, x_{2})$;\n",
        "- два нейрона в скрытых слоях  $(h_{1}, h_{2}$);\n",
        "- два выхода $(o_{1}, o_{2})$.\n",
        "\n",
        "Нейроны имеют идентичные веса и пороги:\n",
        "- $w = [1, 0]$;\n",
        "- $b = 1$."
      ]
    },
    {
      "cell_type": "code",
      "execution_count": 10,
      "id": "261021eb",
      "metadata": {
        "id": "261021eb",
        "outputId": "4f74805d-03b8-4f6d-bdef-f0a34482ae1a"
      },
      "outputs": [
        {
          "name": "stdout",
          "output_type": "stream",
          "text": [
            "(0.876, 0.876)\n"
          ]
        }
      ],
      "source": [
        "import numpy as np\n",
        "class OurNeuralNetwork2:\n",
        "\n",
        "    def __init__(self):\n",
        "        weights = np.array([1, 0])\n",
        "        bias = 1\n",
        "        # Класс Neuron из предыдущего раздела\n",
        "        self.h1 = Neuron(weights, bias)\n",
        "        self.h2 = Neuron(weights, bias)        \n",
        "        self.o1 = Neuron(weights, bias)  \n",
        "        self.o2 = Neuron(weights, bias)  \n",
        "    def feedForward(self, x):\n",
        "        out_h1 = self.h1.feedForward(x)\n",
        "        out_h2 = self.h2.feedForward(x)   \n",
        "        # Входы для о1 - это выхода h1 и h2\n",
        "        out_o1 = self.o1.feedForward(np.array([out_h1, out_h2]))\n",
        "        out_o2 = self.o2.feedForward(np.array([out_h1, out_h2]))\n",
        "        return round(out_o1, 3), round(out_o2, 3)\n",
        "    \n",
        "network = OurNeuralNetwork2()\n",
        "x = np.array([2, 3])\n",
        "print(network.feedForward(x)) # 0.7216325609518421"
      ]
    },
    {
      "cell_type": "markdown",
      "id": "937f9d19",
      "metadata": {
        "id": "937f9d19"
      },
      "source": [
        "## Задание \n",
        "Реализуйте классы нейронных сетей с использованием других функций \n",
        "активации.\n"
      ]
    },
    {
      "cell_type": "markdown",
      "id": "e3b9311a",
      "metadata": {
        "id": "e3b9311a"
      },
      "source": [
        "2. Функция активации - гиперболический тангенс. \n",
        "\n",
        "Достоинства:\n",
        "- простое вычисление производной через  значение своей функции;\n",
        "- область значений от -1 до 1.  \n",
        "\n",
        "Недостатки:\n",
        "- затухание или увеличение градиента;\n",
        "- ресурсовемкая по сравнению с ReLU.\n",
        "$$tanh(x) = \\frac{e^{x} - e^{-x}}{e^{x} + e^{-x}}$$"
      ]
    },
    {
      "cell_type": "code",
      "execution_count": 11,
      "id": "08fd8b1f",
      "metadata": {
        "id": "08fd8b1f",
        "outputId": "e0c25552-6fb4-4c17-ad1c-d36147dca5de"
      },
      "outputs": [
        {
          "name": "stdout",
          "output_type": "stream",
          "text": [
            "0.964\n"
          ]
        }
      ],
      "source": [
        "from math import exp\n",
        "import numpy as np\n",
        "\n",
        "def tanh(x):\n",
        "    return (exp(x) - exp(-x)) / (exp(x) + exp(-x))\n",
        "\n",
        "class Neuron:\n",
        "    def __init__(self, weights, bias):\n",
        "        self.weights = weights\n",
        "        self.bias = bias\n",
        "    def feedForward(self, inputs):\n",
        "        total = np.dot(self.weights, inputs) + self.bias # np.dot - умножение матриц\n",
        "        return tanh(total)\n",
        "    \n",
        "class TanhNeuralNetwork:\n",
        "    def __init__(self):\n",
        "        weights = np.array([1, 0])\n",
        "        bias = 1\n",
        "        # Класс Neuron из предыдущего раздела\n",
        "        self.h1 = Neuron(weights, bias)\n",
        "        self.h2 = Neuron(weights, bias)        \n",
        "        self.o1 = Neuron(weights, bias)  \n",
        "        self.o2 = Neuron(weights, bias)  \n",
        "    def feedForward(self, x):\n",
        "        out_h1 = self.h1.feedForward(x)\n",
        "        out_h2 = self.h2.feedForward(x)   \n",
        "        # Входы для о1 - это выхода h1 и h2\n",
        "        out_o1 = self.o1.feedForward(np.array([out_h1, out_h2]))\n",
        "        return round(out_o1, 3)\n",
        "    \n",
        "network = TanhNeuralNetwork()\n",
        "x = np.array([2, 3])\n",
        "print(network.feedForward(x)) # 0.964"
      ]
    },
    {
      "cell_type": "markdown",
      "id": "dec92434",
      "metadata": {
        "id": "dec92434"
      },
      "source": [
        "3. Функция активации - выпрямленная линейная функция активации ReLU (rectified linear unit).\n",
        "\n",
        "Достоинства:\n",
        "- лишена ресурсоемких операций;\n",
        "- отсекает ненужные детали;\n",
        "- отсутствует разрастание/затухание градиента;\n",
        "- быстрое обучение.\n",
        "\n",
        "Недостатки:\n",
        "- не всегда надежна, в процессе обучения может \"умирать\";\n",
        "- сильно зависима от инициализации весов.\n",
        "\n",
        "$$f(x) = max(0, x)$$"
      ]
    },
    {
      "cell_type": "code",
      "execution_count": 12,
      "id": "fb72673a",
      "metadata": {
        "id": "fb72673a",
        "outputId": "e7dea7f3-57f6-492a-cc91-c3614ecc6752"
      },
      "outputs": [
        {
          "name": "stdout",
          "output_type": "stream",
          "text": [
            "4\n"
          ]
        }
      ],
      "source": [
        "from math import exp\n",
        "import numpy as np\n",
        "\n",
        "def relu(x):\n",
        "    return max(0, x)\n",
        "\n",
        "class Neuron:\n",
        "    def __init__(self, weights, bias):\n",
        "        self.weights = weights\n",
        "        self.bias = bias\n",
        "    def feedForward(self, inputs):\n",
        "        total = np.dot(self.weights, inputs) + self.bias # np.dot - умножение матриц\n",
        "        return relu(total)\n",
        "    \n",
        "class ReluNeuralNetwork:\n",
        "    def __init__(self):\n",
        "        weights = np.array([1, 0])\n",
        "        bias = 1\n",
        "        # Класс Neuron из предыдущего раздела\n",
        "        self.h1 = Neuron(weights, bias)\n",
        "        self.h2 = Neuron(weights, bias)        \n",
        "        self.o1 = Neuron(weights, bias)  \n",
        "        self.o2 = Neuron(weights, bias)  \n",
        "    def feedForward(self, x):\n",
        "        out_h1 = self.h1.feedForward(x)\n",
        "        out_h2 = self.h2.feedForward(x)   \n",
        "        # Входы для о1 - это выхода h1 и h2\n",
        "        out_o1 = self.o1.feedForward(np.array([out_h1, out_h2]))\n",
        "        return round(out_o1, 3)\n",
        "    \n",
        "network = ReluNeuralNetwork()\n",
        "x = np.array([2, 3])\n",
        "print(network.feedForward(x)) # 4"
      ]
    },
    {
      "cell_type": "markdown",
      "id": "e0a272a5",
      "metadata": {
        "id": "e0a272a5"
      },
      "source": [
        "## Задание\n",
        "Используйте классы MLPClassified и MLPRegressor для классификации и \n",
        "регрессии произвольных данных из интернета. Проведите анализ \n",
        "атрибуты, полученных моделей.  \n",
        "Для классификации можете взять набор данных ирисов,\n",
        "а для регрессии датасет зависимости заработной платы от опыта работы."
      ]
    },
    {
      "cell_type": "markdown",
      "id": "57563be7",
      "metadata": {
        "id": "57563be7"
      },
      "source": [
        "### Классификация"
      ]
    },
    {
      "cell_type": "code",
      "execution_count": 13,
      "id": "30f9949e",
      "metadata": {
        "id": "30f9949e",
        "outputId": "df168cda-a2b7-4a8c-e73d-f2e1504984dc"
      },
      "outputs": [
        {
          "data": {
            "text/html": [
              "<div>\n",
              "<style scoped>\n",
              "    .dataframe tbody tr th:only-of-type {\n",
              "        vertical-align: middle;\n",
              "    }\n",
              "\n",
              "    .dataframe tbody tr th {\n",
              "        vertical-align: top;\n",
              "    }\n",
              "\n",
              "    .dataframe thead th {\n",
              "        text-align: right;\n",
              "    }\n",
              "</style>\n",
              "<table border=\"1\" class=\"dataframe\">\n",
              "  <thead>\n",
              "    <tr style=\"text-align: right;\">\n",
              "      <th></th>\n",
              "      <th>sepal_length</th>\n",
              "      <th>sepal_width</th>\n",
              "      <th>petal_length</th>\n",
              "      <th>petal_width</th>\n",
              "      <th>species</th>\n",
              "    </tr>\n",
              "  </thead>\n",
              "  <tbody>\n",
              "    <tr>\n",
              "      <th>0</th>\n",
              "      <td>5.1</td>\n",
              "      <td>3.5</td>\n",
              "      <td>1.4</td>\n",
              "      <td>0.2</td>\n",
              "      <td>setosa</td>\n",
              "    </tr>\n",
              "    <tr>\n",
              "      <th>1</th>\n",
              "      <td>4.9</td>\n",
              "      <td>3.0</td>\n",
              "      <td>1.4</td>\n",
              "      <td>0.2</td>\n",
              "      <td>setosa</td>\n",
              "    </tr>\n",
              "    <tr>\n",
              "      <th>2</th>\n",
              "      <td>4.7</td>\n",
              "      <td>3.2</td>\n",
              "      <td>1.3</td>\n",
              "      <td>0.2</td>\n",
              "      <td>setosa</td>\n",
              "    </tr>\n",
              "    <tr>\n",
              "      <th>3</th>\n",
              "      <td>4.6</td>\n",
              "      <td>3.1</td>\n",
              "      <td>1.5</td>\n",
              "      <td>0.2</td>\n",
              "      <td>setosa</td>\n",
              "    </tr>\n",
              "    <tr>\n",
              "      <th>4</th>\n",
              "      <td>5.0</td>\n",
              "      <td>3.6</td>\n",
              "      <td>1.4</td>\n",
              "      <td>0.2</td>\n",
              "      <td>setosa</td>\n",
              "    </tr>\n",
              "    <tr>\n",
              "      <th>...</th>\n",
              "      <td>...</td>\n",
              "      <td>...</td>\n",
              "      <td>...</td>\n",
              "      <td>...</td>\n",
              "      <td>...</td>\n",
              "    </tr>\n",
              "    <tr>\n",
              "      <th>145</th>\n",
              "      <td>6.7</td>\n",
              "      <td>3.0</td>\n",
              "      <td>5.2</td>\n",
              "      <td>2.3</td>\n",
              "      <td>virginica</td>\n",
              "    </tr>\n",
              "    <tr>\n",
              "      <th>146</th>\n",
              "      <td>6.3</td>\n",
              "      <td>2.5</td>\n",
              "      <td>5.0</td>\n",
              "      <td>1.9</td>\n",
              "      <td>virginica</td>\n",
              "    </tr>\n",
              "    <tr>\n",
              "      <th>147</th>\n",
              "      <td>6.5</td>\n",
              "      <td>3.0</td>\n",
              "      <td>5.2</td>\n",
              "      <td>2.0</td>\n",
              "      <td>virginica</td>\n",
              "    </tr>\n",
              "    <tr>\n",
              "      <th>148</th>\n",
              "      <td>6.2</td>\n",
              "      <td>3.4</td>\n",
              "      <td>5.4</td>\n",
              "      <td>2.3</td>\n",
              "      <td>virginica</td>\n",
              "    </tr>\n",
              "    <tr>\n",
              "      <th>149</th>\n",
              "      <td>5.9</td>\n",
              "      <td>3.0</td>\n",
              "      <td>5.1</td>\n",
              "      <td>1.8</td>\n",
              "      <td>virginica</td>\n",
              "    </tr>\n",
              "  </tbody>\n",
              "</table>\n",
              "<p>150 rows × 5 columns</p>\n",
              "</div>"
            ],
            "text/plain": [
              "     sepal_length  sepal_width  petal_length  petal_width    species\n",
              "0             5.1          3.5           1.4          0.2     setosa\n",
              "1             4.9          3.0           1.4          0.2     setosa\n",
              "2             4.7          3.2           1.3          0.2     setosa\n",
              "3             4.6          3.1           1.5          0.2     setosa\n",
              "4             5.0          3.6           1.4          0.2     setosa\n",
              "..            ...          ...           ...          ...        ...\n",
              "145           6.7          3.0           5.2          2.3  virginica\n",
              "146           6.3          2.5           5.0          1.9  virginica\n",
              "147           6.5          3.0           5.2          2.0  virginica\n",
              "148           6.2          3.4           5.4          2.3  virginica\n",
              "149           5.9          3.0           5.1          1.8  virginica\n",
              "\n",
              "[150 rows x 5 columns]"
            ]
          },
          "execution_count": 13,
          "metadata": {},
          "output_type": "execute_result"
        }
      ],
      "source": [
        "import seaborn as sns\n",
        "\n",
        "iris = sns.load_dataset('iris')\n",
        "iris"
      ]
    },
    {
      "cell_type": "code",
      "execution_count": 14,
      "id": "cf6ceb71",
      "metadata": {
        "id": "cf6ceb71",
        "outputId": "3f81eaf5-9697-4020-8818-ec5e26af4180"
      },
      "outputs": [
        {
          "name": "stdout",
          "output_type": "stream",
          "text": [
            "Первые 15 предсказаний/значений тестовой выборки:\n",
            "['versicolor' 'setosa' 'virginica' 'virginica' 'setosa' 'setosa'\n",
            " 'virginica' 'virginica' 'virginica' 'setosa' 'setosa' 'versicolor'\n",
            " 'virginica' 'versicolor' 'virginica']\n",
            "80     versicolor\n",
            "45         setosa\n",
            "144     virginica\n",
            "110     virginica\n",
            "38         setosa\n",
            "2          setosa\n",
            "135     virginica\n",
            "72     versicolor\n",
            "138     virginica\n",
            "34         setosa\n",
            "19         setosa\n",
            "77     versicolor\n",
            "101     virginica\n",
            "63     versicolor\n",
            "117     virginica\n",
            "Name: species, dtype: object\n",
            "Точность тестовой выборки:  0.933\n",
            "Точность обучающей выборки:  0.983\n"
          ]
        },
        {
          "name": "stderr",
          "output_type": "stream",
          "text": [
            "c:\\Python311\\Lib\\site-packages\\sklearn\\neural_network\\_multilayer_perceptron.py:691: ConvergenceWarning: Stochastic Optimizer: Maximum iterations (200) reached and the optimization hasn't converged yet.\n",
            "  warnings.warn(\n"
          ]
        }
      ],
      "source": [
        "from sklearn.model_selection import train_test_split\n",
        "\n",
        "X_train, X_test, Y_train, Y_test = train_test_split(\n",
        "    # посколько iris - pandas-таблица, для нее нужно указывать iloc\n",
        "    iris.iloc[:, :-1], # берем все колонки кроме последней в признаки (независимые переменные - х)\n",
        "    iris.iloc[:, -1], # последнюю в целевую переменную (зависимая переменная - у)\n",
        "    test_size = 0.20, # размер тестовой выборки 20% \n",
        "    stratify=iris.iloc[:, -1], # было Y_digits\n",
        "    random_state=123\n",
        ")\n",
        "\n",
        "from sklearn.neural_network import MLPClassifier\n",
        "\n",
        "mlp_classifier = MLPClassifier(random_state=123)\n",
        "mlp_classifier.fit(X_train, Y_train)\n",
        "\n",
        "Y_preds = mlp_classifier.predict(X_test)\n",
        "\n",
        "print(\"Первые 15 предсказаний/значений тестовой выборки:\")\n",
        "print(Y_preds[:15])\n",
        "print(Y_test[:15])\n",
        "\n",
        "# метод Score для оценки точности моделей классификации\n",
        "print('Точность тестовой выборки: ', round(mlp_classifier.score(X_test, Y_test), 3))\n",
        "print('Точность обучающей выборки: ', round(mlp_classifier.score(X_train, Y_train), 3))"
      ]
    },
    {
      "cell_type": "code",
      "execution_count": 15,
      "id": "470f76dd",
      "metadata": {
        "id": "470f76dd",
        "outputId": "d23eeb3d-2b4a-404b-e875-e3df481423a9"
      },
      "outputs": [
        {
          "data": {
            "image/png": "[encoded data removed]",
            "text/plain": [
              "<Figure size 1000x700 with 1 Axes>"
            ]
          },
          "metadata": {},
          "output_type": "display_data"
        }
      ],
      "source": [
        "import matplotlib.pyplot as plt\n",
        "import numpy as np\n",
        "\n",
        "# Покажем на графике, что отражает полученное число.\n",
        "# Красным цветом обозначены точки, для которых классификация сработала неправильно.\n",
        "plt.figure(figsize=(10, 7))\n",
        "sns.scatterplot(x='petal_width', y='petal_length', data=iris, hue='species', s=70)\n",
        "plt.xlabel('Ширина лепестка, см')\n",
        "plt.ylabel('Длина лепестка, см')\n",
        "plt.legend(loc=2) # loc отвечает за угол, в котором расположена легенда\n",
        "plt.grid()\n",
        "\n",
        "# Перебираем все объекты из теста\n",
        "for i in range(len(Y_test)):\n",
        "    # Если предсказание неправильное\n",
        "    if np.array(Y_test)[i] != Y_preds[i]:\n",
        "        # то подсвечиваем точку красным\n",
        "        plt.scatter(X_test.iloc[i, 3], X_test.iloc[i, 2], color='red', s=150)"
      ]
    },
    {
      "cell_type": "code",
      "execution_count": 16,
      "id": "bfe54d6d",
      "metadata": {
        "id": "bfe54d6d",
        "outputId": "2c335b18-5c8a-4df4-a166-e1eecd694110"
      },
      "outputs": [
        {
          "name": "stdout",
          "output_type": "stream",
          "text": [
            "Точность предсказания: 0.933\n"
          ]
        }
      ],
      "source": [
        "# Качество модели (доля правильно классифицированных точек)\n",
        "from sklearn.metrics import accuracy_score\n",
        "print(f'Точность предсказания: {accuracy_score(Y_test, Y_preds) :.3}')"
      ]
    },
    {
      "cell_type": "code",
      "execution_count": 17,
      "id": "348a9e43",
      "metadata": {
        "id": "348a9e43",
        "outputId": "67535e64-f2ea-4470-da22-1b5e2204340f"
      },
      "outputs": [
        {
          "name": "stdout",
          "output_type": "stream",
          "text": [
            "Убыток:  0.299\n",
            "Количество весов:  2\n",
            "Количество значений смещений:  2\n",
            "Количество итераций, для которых выполнялась оценка:  200\n",
            "Имя функции активации выходного слоя:  softmax\n"
          ]
        }
      ],
      "source": [
        "print('Убыток: ', round(mlp_classifier.loss_, 3))\n",
        "print('Количество весов: ', len(mlp_classifier.coefs_))\n",
        "print('Количество значений смещений: ', len(mlp_classifier.intercepts_))\n",
        "print('Количество итераций, для которых выполнялась оценка: ', mlp_classifier.n_iter_)\n",
        "print('Имя функции активации выходного слоя: ', mlp_classifier.out_activation_)"
      ]
    },
    {
      "cell_type": "markdown",
      "id": "269f222e",
      "metadata": {
        "id": "269f222e"
      },
      "source": [
        "### Регрессия"
      ]
    },
    {
      "cell_type": "code",
      "execution_count": 18,
      "id": "605f9984",
      "metadata": {
        "id": "605f9984",
        "outputId": "4239b961-bafc-491e-d3b8-2da289fa906a"
      },
      "outputs": [
        {
          "data": {
            "text/html": [
              "<div>\n",
              "<style scoped>\n",
              "    .dataframe tbody tr th:only-of-type {\n",
              "        vertical-align: middle;\n",
              "    }\n",
              "\n",
              "    .dataframe tbody tr th {\n",
              "        vertical-align: top;\n",
              "    }\n",
              "\n",
              "    .dataframe thead th {\n",
              "        text-align: right;\n",
              "    }\n",
              "</style>\n",
              "<table border=\"1\" class=\"dataframe\">\n",
              "  <thead>\n",
              "    <tr style=\"text-align: right;\">\n",
              "      <th></th>\n",
              "      <th>YearsExperience</th>\n",
              "      <th>Salary</th>\n",
              "    </tr>\n",
              "  </thead>\n",
              "  <tbody>\n",
              "    <tr>\n",
              "      <th>0</th>\n",
              "      <td>1.1</td>\n",
              "      <td>39343.0</td>\n",
              "    </tr>\n",
              "    <tr>\n",
              "      <th>1</th>\n",
              "      <td>1.3</td>\n",
              "      <td>46205.0</td>\n",
              "    </tr>\n",
              "    <tr>\n",
              "      <th>2</th>\n",
              "      <td>1.5</td>\n",
              "      <td>37731.0</td>\n",
              "    </tr>\n",
              "    <tr>\n",
              "      <th>3</th>\n",
              "      <td>2.0</td>\n",
              "      <td>43525.0</td>\n",
              "    </tr>\n",
              "    <tr>\n",
              "      <th>4</th>\n",
              "      <td>2.2</td>\n",
              "      <td>39891.0</td>\n",
              "    </tr>\n",
              "  </tbody>\n",
              "</table>\n",
              "</div>"
            ],
            "text/plain": [
              "   YearsExperience   Salary\n",
              "0              1.1  39343.0\n",
              "1              1.3  46205.0\n",
              "2              1.5  37731.0\n",
              "3              2.0  43525.0\n",
              "4              2.2  39891.0"
            ]
          },
          "execution_count": 18,
          "metadata": {},
          "output_type": "execute_result"
        }
      ],
      "source": [
        "import pandas as pd\n",
        "\n",
        "url = 'https://raw.githubusercontent.com/AnnaShestova/salary-years-simple-linear-regression/master/Salary_Data.csv'\n",
        "dataframe = pd.read_csv(url)\n",
        "dataframe.head(5)"
      ]
    },
    {
      "cell_type": "code",
      "execution_count": 19,
      "id": "0c26b65b",
      "metadata": {
        "id": "0c26b65b",
        "outputId": "ceb69590-45fc-47c6-b4a0-abadecd234b7"
      },
      "outputs": [
        {
          "data": {
            "image/png": "[encoded data removed]",
            "text/plain": [
              "<Figure size 640x480 with 1 Axes>"
            ]
          },
          "metadata": {},
          "output_type": "display_data"
        }
      ],
      "source": [
        "plt.scatter(dataframe['YearsExperience'], dataframe['Salary'], label = 'Соотношение стажа работы и зарплаты')\n",
        "plt.xlabel(\"Стаж работы\")\n",
        "plt.ylabel(\"Зарплата\")\n",
        "plt.show()"
      ]
    },
    {
      "cell_type": "code",
      "execution_count": 20,
      "id": "f6eb16c8",
      "metadata": {
        "id": "f6eb16c8",
        "outputId": "d44dcac6-cff5-4479-9447-f0d004f96fae"
      },
      "outputs": [
        {
          "name": "stdout",
          "output_type": "stream",
          "text": [
            "Размеры обучающей и тестовой выборок: \n",
            "Обучающая:  (24, 1) (120,)\n",
            "Тестовая:  (6, 1) (30,)\n"
          ]
        }
      ],
      "source": [
        "from sklearn.model_selection import train_test_split\n",
        "\n",
        "X = dataframe.iloc[:, :-1].values\n",
        "y = dataframe.iloc[:, 1].values\n",
        "X_train, X_test, y_train, y_test = train_test_split(X, y, test_size=0.2, random_state=0)\n",
        "\n",
        "print(\"Размеры обучающей и тестовой выборок: \")\n",
        "print('Обучающая: ', X_train.shape, Y_train.shape)\n",
        "print('Тестовая: ', X_test.shape, Y_test.shape)"
      ]
    },
    {
      "cell_type": "code",
      "execution_count": 21,
      "id": "ba3b9cc8",
      "metadata": {
        "id": "ba3b9cc8",
        "outputId": "6bfea5b5-aad4-4adb-b42d-fab83b586319"
      },
      "outputs": [
        {
          "data": {
            "text/html": [
              "<style>#sk-container-id-1 {color: black;}#sk-container-id-1 pre{padding: 0;}#sk-container-id-1 div.sk-toggleable {background-color: white;}#sk-container-id-1 label.sk-toggleable__label {cursor: pointer;display: block;width: 100%;margin-bottom: 0;padding: 0.3em;box-sizing: border-box;text-align: center;}#sk-container-id-1 label.sk-toggleable__label-arrow:before {content: \"▸\";float: left;margin-right: 0.25em;color: #696969;}#sk-container-id-1 label.sk-toggleable__label-arrow:hover:before {color: black;}#sk-container-id-1 div.sk-estimator:hover label.sk-toggleable__label-arrow:before {color: black;}#sk-container-id-1 div.sk-toggleable__content {max-height: 0;max-width: 0;overflow: hidden;text-align: left;background-color: #f0f8ff;}#sk-container-id-1 div.sk-toggleable__content pre {margin: 0.2em;color: black;border-radius: 0.25em;background-color: #f0f8ff;}#sk-container-id-1 input.sk-toggleable__control:checked~div.sk-toggleable__content {max-height: 200px;max-width: 100%;overflow: auto;}#sk-container-id-1 input.sk-toggleable__control:checked~label.sk-toggleable__label-arrow:before {content: \"▾\";}#sk-container-id-1 div.sk-estimator input.sk-toggleable__control:checked~label.sk-toggleable__label {background-color: #d4ebff;}#sk-container-id-1 div.sk-label input.sk-toggleable__control:checked~label.sk-toggleable__label {background-color: #d4ebff;}#sk-container-id-1 input.sk-hidden--visually {border: 0;clip: rect(1px 1px 1px 1px);clip: rect(1px, 1px, 1px, 1px);height: 1px;margin: -1px;overflow: hidden;padding: 0;position: absolute;width: 1px;}#sk-container-id-1 div.sk-estimator {font-family: monospace;background-color: #f0f8ff;border: 1px dotted black;border-radius: 0.25em;box-sizing: border-box;margin-bottom: 0.5em;}#sk-container-id-1 div.sk-estimator:hover {background-color: #d4ebff;}#sk-container-id-1 div.sk-parallel-item::after {content: \"\";width: 100%;border-bottom: 1px solid gray;flex-grow: 1;}#sk-container-id-1 div.sk-label:hover label.sk-toggleable__label {background-color: #d4ebff;}#sk-container-id-1 div.sk-serial::before {content: \"\";position: absolute;border-left: 1px solid gray;box-sizing: border-box;top: 0;bottom: 0;left: 50%;z-index: 0;}#sk-container-id-1 div.sk-serial {display: flex;flex-direction: column;align-items: center;background-color: white;padding-right: 0.2em;padding-left: 0.2em;position: relative;}#sk-container-id-1 div.sk-item {position: relative;z-index: 1;}#sk-container-id-1 div.sk-parallel {display: flex;align-items: stretch;justify-content: center;background-color: white;position: relative;}#sk-container-id-1 div.sk-item::before, #sk-container-id-1 div.sk-parallel-item::before {content: \"\";position: absolute;border-left: 1px solid gray;box-sizing: border-box;top: 0;bottom: 0;left: 50%;z-index: -1;}#sk-container-id-1 div.sk-parallel-item {display: flex;flex-direction: column;z-index: 1;position: relative;background-color: white;}#sk-container-id-1 div.sk-parallel-item:first-child::after {align-self: flex-end;width: 50%;}#sk-container-id-1 div.sk-parallel-item:last-child::after {align-self: flex-start;width: 50%;}#sk-container-id-1 div.sk-parallel-item:only-child::after {width: 0;}#sk-container-id-1 div.sk-dashed-wrapped {border: 1px dashed gray;margin: 0 0.4em 0.5em 0.4em;box-sizing: border-box;padding-bottom: 0.4em;background-color: white;}#sk-container-id-1 div.sk-label label {font-family: monospace;font-weight: bold;display: inline-block;line-height: 1.2em;}#sk-container-id-1 div.sk-label-container {text-align: center;}#sk-container-id-1 div.sk-container {/* jupyter's `normalize.less` sets `[hidden] { display: none; }` but bootstrap.min.css set `[hidden] { display: none !important; }` so we also need the `!important` here to be able to override the default hidden behavior on the sphinx rendered scikit-learn.org. See: https://github.com/scikit-learn/scikit-learn/issues/21755 */display: inline-block !important;position: relative;}#sk-container-id-1 div.sk-text-repr-fallback {display: none;}</style><div id=\"sk-container-id-1\" class=\"sk-top-container\"><div class=\"sk-text-repr-fallback\"><pre>MLPRegressor(hidden_layer_sizes=(10, 10), max_iter=100000)</pre><b>In a Jupyter environment, please rerun this cell to show the HTML representation or trust the notebook. <br />On GitHub, the HTML representation is unable to render, please try loading this page with nbviewer.org.</b></div><div class=\"sk-container\" hidden><div class=\"sk-item\"><div class=\"sk-estimator sk-toggleable\"><input class=\"sk-toggleable__control sk-hidden--visually\" id=\"sk-estimator-id-1\" type=\"checkbox\" checked><label for=\"sk-estimator-id-1\" class=\"sk-toggleable__label sk-toggleable__label-arrow\">MLPRegressor</label><div class=\"sk-toggleable__content\"><pre>MLPRegressor(hidden_layer_sizes=(10, 10), max_iter=100000)</pre></div></div></div></div></div>"
            ],
            "text/plain": [
              "MLPRegressor(hidden_layer_sizes=(10, 10), max_iter=100000)"
            ]
          },
          "execution_count": 21,
          "metadata": {},
          "output_type": "execute_result"
        }
      ],
      "source": [
        "from sklearn.neural_network import MLPRegressor\n",
        "\n",
        "regressor = MLPRegressor(hidden_layer_sizes=(10, 10), activation='relu', solver='adam', max_iter=100000)\n",
        "# regressor = MLPRegressor(random_state=123)\n",
        "regressor.fit(X_train, y_train)"
      ]
    },
    {
      "cell_type": "code",
      "execution_count": 22,
      "id": "4841b682",
      "metadata": {
        "id": "4841b682",
        "outputId": "03f54b25-c513-4f2f-bf69-ba6274da7208"
      },
      "outputs": [
        {
          "name": "stdout",
          "output_type": "stream",
          "text": [
            "Коэффициент детерминации R2: 0.988170030190305\n"
          ]
        }
      ],
      "source": [
        "y_pred = regressor.predict(X_test)\n",
        "from sklearn.metrics import r2_score\n",
        "print('Коэффициент детерминации R2:', r2_score(y_test, y_pred))"
      ]
    },
    {
      "cell_type": "markdown",
      "id": "ee954cd0",
      "metadata": {
        "id": "ee954cd0"
      },
      "source": [
        "В этом примере мы использовали MLPRegressor с двумя скрытыми слоями, функцией активации ReLU и оптимизатором Adam. Также мы оценили качество модели с помощью коэффициента детерминации (R2 Score)."
      ]
    },
    {
      "cell_type": "code",
      "execution_count": 23,
      "id": "b0487e86",
      "metadata": {
        "id": "b0487e86",
        "outputId": "05cba9b7-f596-49b2-f4a1-53478694d13a"
      },
      "outputs": [
        {
          "data": {
            "image/png": "[encoded data removed]",
            "text/plain": [
              "<Figure size 640x480 with 1 Axes>"
            ]
          },
          "metadata": {},
          "output_type": "display_data"
        }
      ],
      "source": [
        "import numpy as np\n",
        "import matplotlib.pyplot as plt\n",
        "\n",
        "# Создание набора значений для оси X\n",
        "X_plot = np.linspace(1, 10, 100).reshape(-1, 1)\n",
        "\n",
        "# Получение предсказанных значений на наборе X_plot\n",
        "y_pred_plot = regressor.predict(X_plot)\n",
        "\n",
        "# Построение графика\n",
        "plt.scatter(X_test, y_test, color='blue')\n",
        "plt.plot(X_plot, y_pred_plot, color='red')\n",
        "plt.title('Salary vs Experience (MLPRegressor)')\n",
        "plt.xlabel('Years of Experience')\n",
        "plt.ylabel('Salary')\n",
        "plt.show()"
      ]
    },
    {
      "cell_type": "code",
      "execution_count": 24,
      "id": "a0250a27",
      "metadata": {
        "id": "a0250a27",
        "outputId": "4d6aafe6-424c-408a-cc6e-8540e1a2fa03"
      },
      "outputs": [
        {
          "name": "stdout",
          "output_type": "stream",
          "text": [
            "Убыток:  18074835.072\n",
            "Количество весов:  3\n",
            "Количество значений смещений:  3\n",
            "Количество итераций, для которых выполнялась оценка:  17271\n",
            "Имя функции активации выходного слоя:  identity\n"
          ]
        }
      ],
      "source": [
        "print('Убыток: ', round(regressor.loss_, 3))\n",
        "print('Количество весов: ', len(regressor.coefs_))\n",
        "print('Количество значений смещений: ', len(regressor.intercepts_))\n",
        "print('Количество итераций, для которых выполнялась оценка: ', regressor.n_iter_)\n",
        "print('Имя функции активации выходного слоя: ', regressor.out_activation_)"
      ]
    }
  ],
  "metadata": {
    "colab": {
      "provenance": []
    },
    "kernelspec": {
      "display_name": "Python 3 (ipykernel)",
      "language": "python",
      "name": "python3"
    },
    "language_info": {
      "codemirror_mode": {
        "name": "ipython",
        "version": 3
      },
      "file_extension": ".py",
      "mimetype": "text/x-python",
      "name": "python",
      "nbconvert_exporter": "python",
      "pygments_lexer": "ipython3",
      "version": "3.11.4"
    }
  },
  "nbformat": 4,
  "nbformat_minor": 5
}
